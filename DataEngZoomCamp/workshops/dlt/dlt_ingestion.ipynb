{
 "cells": [
  {
   "cell_type": "markdown",
   "metadata": {
    "id": "mrTFv5nPClXh"
   },
   "source": [
    "# **Homework**: Data talks club data engineering zoomcamp Data loading workshop\n",
    "\n",
    "Hello folks, let's practice what we learned - Loading data with the best practices of data engineering.\n",
    "\n",
    "Here are the exercises we will do\n",
    "\n",
    "\n"
   ]
  },
  {
   "cell_type": "markdown",
   "metadata": {
    "id": "wLF4iXf-NR7t"
   },
   "source": [
    "# 1. Use a generator\n",
    "\n",
    "Remember the concept of generator? Let's practice using them to futher our understanding of how they work.\n",
    "\n",
    "Let's define a generator and then run it as practice.\n",
    "\n",
    "**Answer the following questions:**\n",
    "\n",
    "- **Question 1: What is the sum of the outputs of the generator for limit = 5?**\n",
    "- **Question 2: What is the 13th number yielded**\n",
    "\n",
    "I suggest practicing these questions without GPT as the purpose is to further your learning."
   ]
  },
  {
   "cell_type": "code",
   "execution_count": 10,
   "metadata": {},
   "outputs": [],
   "source": [
    "import dlt\n",
    "import duckdb"
   ]
  },
  {
   "cell_type": "code",
   "execution_count": 2,
   "metadata": {
    "colab": {
     "base_uri": "https://localhost:8080/"
    },
    "id": "wLng-bDJN4jf",
    "outputId": "547683cb-5f56-4815-a903-d0d9578eb1f9"
   },
   "outputs": [],
   "source": [
    "def square_root_generator(limit):\n",
    "    n = 1\n",
    "    while n <= limit:\n",
    "        yield n ** 0.5\n",
    "        n += 1"
   ]
  },
  {
   "cell_type": "markdown",
   "metadata": {
    "id": "xbe3q55zN43j"
   },
   "source": [
    "## Question 1"
   ]
  },
  {
   "cell_type": "code",
   "execution_count": 3,
   "metadata": {},
   "outputs": [
    {
     "name": "stdout",
     "output_type": "stream",
     "text": [
      "8.382332347441762\n"
     ]
    }
   ],
   "source": [
    "limit = 5\n",
    "generator = square_root_generator(limit)\n",
    "\n",
    "count = 0\n",
    "for sqrt_value in generator:\n",
    "    count += sqrt_value\n",
    "\n",
    "print(count)"
   ]
  },
  {
   "cell_type": "markdown",
   "metadata": {},
   "source": [
    "## Question 2"
   ]
  },
  {
   "cell_type": "code",
   "execution_count": 37,
   "metadata": {},
   "outputs": [
    {
     "name": "stdout",
     "output_type": "stream",
     "text": [
      "3.605551275463989\n"
     ]
    }
   ],
   "source": [
    "limit = 13\n",
    "generator = square_root_generator(limit)\n",
    "\n",
    "count = 0\n",
    "for sqrt_value in generator:\n",
    "    pass\n",
    "\n",
    "print(sqrt_value)"
   ]
  },
  {
   "cell_type": "markdown",
   "metadata": {
    "id": "vjWhILzGJMpK"
   },
   "source": [
    "# 2. Append a generator to a table with existing data\n",
    "\n",
    "\n",
    "Below you have 2 generators. You will be tasked to load them to duckdb and answer some questions from the data\n",
    "\n",
    "1. Load the first generator and calculate the sum of ages of all people. Make sure to only load it once.\n",
    "2. Append the second generator to the same table as the first.\n",
    "3. **After correctly appending the data, calculate the sum of all ages of people.**\n",
    "\n",
    "\n"
   ]
  },
  {
   "cell_type": "code",
   "execution_count": 5,
   "metadata": {
    "colab": {
     "base_uri": "https://localhost:8080/"
    },
    "id": "2MoaQcdLBEk6",
    "outputId": "d2b93dc1-d83f-44ea-aeff-fdf51d75f7aa"
   },
   "outputs": [],
   "source": [
    "def people_1():\n",
    "    for i in range(1, 6):\n",
    "        yield {\"ID\": i, \"Name\": f\"Person_{i}\", \"Age\": 25 + i, \"City\": \"City_A\"}\n",
    "\n",
    "\n",
    "def people_2():\n",
    "    for i in range(3, 9):\n",
    "        yield {\"ID\": i, \"Name\": f\"Person_{i}\", \"Age\": 30 + i, \"City\": \"City_B\", \"Occupation\": f\"Job_{i}\"}"
   ]
  },
  {
   "cell_type": "markdown",
   "metadata": {},
   "source": [
    "# Question 3"
   ]
  },
  {
   "cell_type": "code",
   "execution_count": 7,
   "metadata": {
    "id": "vtdTIm4fvQCN"
   },
   "outputs": [],
   "source": [
    "pipeline = dlt.pipeline(pipeline_name=\"people_random_data\",\n",
    "\t\t\t\t\t\tdestination='duckdb', \n",
    "\t\t\t\t\t\tdataset_name='people_data')"
   ]
  },
  {
   "cell_type": "code",
   "execution_count": 29,
   "metadata": {},
   "outputs": [
    {
     "name": "stdout",
     "output_type": "stream",
     "text": [
      "Pipeline people_random_data load step completed in 0.24 seconds\n",
      "1 load package(s) were loaded to destination duckdb and into dataset people_data\n",
      "The duckdb destination used duckdb:////Users/starlord1711/Documents/BigData/DataEngPractice/DataEngZoomCamp/workshops/dlt/people_random_data.duckdb location to store data\n",
      "Load package 1707907899.581955 is LOADED and contains no failed jobs\n"
     ]
    }
   ],
   "source": [
    "info = pipeline.run(people_1, \n",
    "                    table_name=\"people_data_age\", \n",
    "                    write_disposition=\"replace\")\n",
    "\n",
    "print(info)"
   ]
  },
  {
   "cell_type": "code",
   "execution_count": 30,
   "metadata": {},
   "outputs": [
    {
     "name": "stdout",
     "output_type": "stream",
     "text": [
      "Pipeline people_random_data load step completed in 0.24 seconds\n",
      "1 load package(s) were loaded to destination duckdb and into dataset people_data\n",
      "The duckdb destination used duckdb:////Users/starlord1711/Documents/BigData/DataEngPractice/DataEngZoomCamp/workshops/dlt/people_random_data.duckdb location to store data\n",
      "Load package 1707907901.7111602 is LOADED and contains no failed jobs\n"
     ]
    }
   ],
   "source": [
    "info = pipeline.run(people_2, \n",
    "                    table_name=\"people_data_age\", \n",
    "                    write_disposition=\"append\")\n",
    "\n",
    "print(info)"
   ]
  },
  {
   "cell_type": "code",
   "execution_count": 23,
   "metadata": {},
   "outputs": [],
   "source": [
    "conn = duckdb.connect(f\"{pipeline.pipeline_name}.duckdb\")"
   ]
  },
  {
   "cell_type": "code",
   "execution_count": 27,
   "metadata": {},
   "outputs": [
    {
     "data": {
      "text/plain": [
       "┌───────┬──────────┬───────┬─────────┬────────────────────┬────────────────┬────────────┐\n",
       "│  id   │   name   │  age  │  city   │    _dlt_load_id    │    _dlt_id     │ occupation │\n",
       "│ int64 │ varchar  │ int64 │ varchar │      varchar       │    varchar     │  varchar   │\n",
       "├───────┼──────────┼───────┼─────────┼────────────────────┼────────────────┼────────────┤\n",
       "│     1 │ Person_1 │    26 │ City_A  │ 1707907584.7188249 │ kM818W6f7+goAg │ NULL       │\n",
       "│     2 │ Person_2 │    27 │ City_A  │ 1707907584.7188249 │ 1vLCXDpjKXs9lw │ NULL       │\n",
       "│     3 │ Person_3 │    28 │ City_A  │ 1707907584.7188249 │ iUMkpOBiAhxc9Q │ NULL       │\n",
       "│     4 │ Person_4 │    29 │ City_A  │ 1707907584.7188249 │ m8iZScoh1Tg67A │ NULL       │\n",
       "│     5 │ Person_5 │    30 │ City_A  │ 1707907584.7188249 │ zQXZ4yJo09EFag │ NULL       │\n",
       "│     3 │ Person_3 │    33 │ City_B  │ 1707907609.653485  │ R+I2idHG7bbUvw │ Job_3      │\n",
       "│     4 │ Person_4 │    34 │ City_B  │ 1707907609.653485  │ sRe6ZVXXl0EiRQ │ Job_4      │\n",
       "│     5 │ Person_5 │    35 │ City_B  │ 1707907609.653485  │ ZHat1PiXaJN6vQ │ Job_5      │\n",
       "│     6 │ Person_6 │    36 │ City_B  │ 1707907609.653485  │ Sb0VYZXzd42NdA │ Job_6      │\n",
       "│     7 │ Person_7 │    37 │ City_B  │ 1707907609.653485  │ OzTaFcE855A01g │ Job_7      │\n",
       "│     8 │ Person_8 │    38 │ City_B  │ 1707907609.653485  │ qkuoJxWV/GqDmA │ Job_8      │\n",
       "├───────┴──────────┴───────┴─────────┴────────────────────┴────────────────┴────────────┤\n",
       "│ 11 rows                                                                     7 columns │\n",
       "└───────────────────────────────────────────────────────────────────────────────────────┘"
      ]
     },
     "metadata": {},
     "output_type": "display_data"
    }
   ],
   "source": [
    "people_data_age_data = conn.sql(\"SELECT * FROM people_data.people_data_age\")\n",
    "display(people_data_age_data)"
   ]
  },
  {
   "cell_type": "code",
   "execution_count": 25,
   "metadata": {},
   "outputs": [
    {
     "data": {
      "text/plain": [
       "┌──────────┐\n",
       "│ sum(age) │\n",
       "│  int128  │\n",
       "├──────────┤\n",
       "│      353 │\n",
       "└──────────┘"
      ]
     },
     "metadata": {},
     "output_type": "display_data"
    }
   ],
   "source": [
    "people_data_age_sum = conn.sql(\"SELECT SUM(age) FROM people_data.people_data_age\")\n",
    "display(people_data_age_sum)"
   ]
  },
  {
   "cell_type": "markdown",
   "metadata": {
    "id": "pY4cFAWOSwN1"
   },
   "source": [
    "# 3. Merge a generator\n",
    "\n",
    "Re-use the generators from Exercise 2.\n",
    "\n",
    "A table's primary key needs to be created from the start, so load your data to a new table with primary key ID.\n",
    "\n",
    "Load your first generator first, and then load the second one with merge. Since they have overlapping IDs, some of the records from the first load should be replaced by the ones from the second load.\n",
    "\n",
    "After loading, you should have a total of 8 records, and ID 3 should have age 33.\n",
    "\n",
    "Question: **Calculate the sum of ages of all the people loaded as described above.**\n"
   ]
  },
  {
   "cell_type": "code",
   "execution_count": 31,
   "metadata": {},
   "outputs": [
    {
     "name": "stdout",
     "output_type": "stream",
     "text": [
      "Pipeline people_random_data load step completed in 0.17 seconds\n",
      "1 load package(s) were loaded to destination duckdb and into dataset people_data\n",
      "The duckdb destination used duckdb:////Users/starlord1711/Documents/BigData/DataEngPractice/DataEngZoomCamp/workshops/dlt/people_random_data.duckdb location to store data\n",
      "Load package 1707907909.005261 is LOADED and contains no failed jobs\n"
     ]
    }
   ],
   "source": [
    "info = pipeline.run(people_1, \n",
    "                    table_name=\"people_data_age_merged\", \n",
    "                    write_disposition=\"replace\")\n",
    "\n",
    "print(info)"
   ]
  },
  {
   "cell_type": "code",
   "execution_count": 32,
   "metadata": {},
   "outputs": [
    {
     "name": "stdout",
     "output_type": "stream",
     "text": [
      "Pipeline people_random_data load step completed in 0.41 seconds\n",
      "1 load package(s) were loaded to destination duckdb and into dataset people_data\n",
      "The duckdb destination used duckdb:////Users/starlord1711/Documents/BigData/DataEngPractice/DataEngZoomCamp/workshops/dlt/people_random_data.duckdb location to store data\n",
      "Load package 1707907912.3463612 is LOADED and contains no failed jobs\n"
     ]
    }
   ],
   "source": [
    "info = pipeline.run(people_2, \n",
    "                    table_name=\"people_data_age_merged\", \n",
    "                    write_disposition=\"merge\",\n",
    "                    primary_key=\"ID\")\n",
    "\n",
    "print(info)"
   ]
  },
  {
   "cell_type": "code",
   "execution_count": 34,
   "metadata": {},
   "outputs": [
    {
     "data": {
      "text/plain": [
       "┌───────┬──────────┬───────┬─────────┬────────────────────┬────────────────┬────────────┐\n",
       "│  id   │   name   │  age  │  city   │    _dlt_load_id    │    _dlt_id     │ occupation │\n",
       "│ int64 │ varchar  │ int64 │ varchar │      varchar       │    varchar     │  varchar   │\n",
       "├───────┼──────────┼───────┼─────────┼────────────────────┼────────────────┼────────────┤\n",
       "│     1 │ Person_1 │    26 │ City_A  │ 1707907909.005261  │ PIfWF4iuYIYX9Q │ NULL       │\n",
       "│     2 │ Person_2 │    27 │ City_A  │ 1707907909.005261  │ 7q2vk2MqYWu4OA │ NULL       │\n",
       "│     3 │ Person_3 │    33 │ City_B  │ 1707907912.3463612 │ ghbXR6nxYnNlOg │ Job_3      │\n",
       "│     4 │ Person_4 │    34 │ City_B  │ 1707907912.3463612 │ eP/mMwEnSNc6SQ │ Job_4      │\n",
       "│     5 │ Person_5 │    35 │ City_B  │ 1707907912.3463612 │ ZPnj3eu83Hc4FQ │ Job_5      │\n",
       "│     6 │ Person_6 │    36 │ City_B  │ 1707907912.3463612 │ 63XORUvLs89weA │ Job_6      │\n",
       "│     7 │ Person_7 │    37 │ City_B  │ 1707907912.3463612 │ V+ZNHo9h3qpD/A │ Job_7      │\n",
       "│     8 │ Person_8 │    38 │ City_B  │ 1707907912.3463612 │ V2rY8vyOufX70w │ Job_8      │\n",
       "└───────┴──────────┴───────┴─────────┴────────────────────┴────────────────┴────────────┘"
      ]
     },
     "metadata": {},
     "output_type": "display_data"
    }
   ],
   "source": [
    "people_data_age_data = conn.sql(\"SELECT * FROM people_data.people_data_age_merged ORDER by id\")\n",
    "display(people_data_age_data)"
   ]
  },
  {
   "cell_type": "code",
   "execution_count": 35,
   "metadata": {},
   "outputs": [
    {
     "data": {
      "text/plain": [
       "┌──────────┐\n",
       "│ sum(age) │\n",
       "│  int128  │\n",
       "├──────────┤\n",
       "│      266 │\n",
       "└──────────┘"
      ]
     },
     "metadata": {},
     "output_type": "display_data"
    }
   ],
   "source": [
    "people_data_age_sum = conn.sql(\"SELECT SUM(age) FROM people_data.people_data_age_merged\")\n",
    "display(people_data_age_sum)"
   ]
  },
  {
   "cell_type": "code",
   "execution_count": null,
   "metadata": {},
   "outputs": [],
   "source": []
  }
 ],
 "metadata": {
  "colab": {
   "provenance": []
  },
  "kernelspec": {
   "display_name": "Python 3 (ipykernel)",
   "language": "python",
   "name": "python3"
  },
  "language_info": {
   "codemirror_mode": {
    "name": "ipython",
    "version": 3
   },
   "file_extension": ".py",
   "mimetype": "text/x-python",
   "name": "python",
   "nbconvert_exporter": "python",
   "pygments_lexer": "ipython3",
   "version": "3.11.0"
  }
 },
 "nbformat": 4,
 "nbformat_minor": 4
}
